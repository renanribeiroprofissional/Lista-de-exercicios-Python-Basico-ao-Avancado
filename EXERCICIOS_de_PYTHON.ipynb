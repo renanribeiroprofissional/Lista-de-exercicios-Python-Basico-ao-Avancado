{
  "nbformat": 4,
  "nbformat_minor": 0,
  "metadata": {
    "colab": {
      "provenance": [],
      "toc_visible": true,
      "collapsed_sections": [
        "sViIPHc9HzlM"
      ],
      "authorship_tag": "ABX9TyPHjs/bnTNI4upzlrnYpx2o",
      "include_colab_link": true
    },
    "kernelspec": {
      "name": "python3",
      "display_name": "Python 3"
    },
    "language_info": {
      "name": "python"
    }
  },
  "cells": [
    {
      "cell_type": "markdown",
      "metadata": {
        "id": "view-in-github",
        "colab_type": "text"
      },
      "source": [
        "<a href=\"https://colab.research.google.com/github/renanribeiroprofissional/Lista-de-exercicios-Python-Basico-ao-Avancado/blob/main/EXERCICIOS_de_PYTHON.ipynb\" target=\"_parent\"><img src=\"https://colab.research.google.com/assets/colab-badge.svg\" alt=\"Open In Colab\"/></a>"
      ]
    },
    {
      "cell_type": "markdown",
      "source": [
        "# While\n"
      ],
      "metadata": {
        "id": "sViIPHc9HzlM"
      }
    },
    {
      "cell_type": "markdown",
      "source": [
        "**1)**\n",
        "\n",
        "Crie um programa que peça o nome de uma pessoa e, em seguida, pergunte se ela tem animais de estimação. Caso a resposta seja \"sim\", pergunte o nome de cada animal e armazene em uma lista (array). O programa deve continuar perguntando se ela tem mais animais até que a resposta seja \"não\".\n",
        "\n",
        "No final, o programa deve exibir o nome da pessoa e a quantidade de animais que ela possui, além dos nomes dos animais."
      ],
      "metadata": {
        "id": "ZkNX0AQCH6TG"
      }
    },
    {
      "cell_type": "code",
      "source": [
        "nome = input(\"Olá! Digite o seu nome: \")\n",
        "\n",
        "temAnimal = input(\"Você tem algum animal de estimação ? \")\n",
        "\n",
        "animais = \"\"\n",
        "\n",
        "quantidade = 0\n",
        "\n",
        "while temAnimal == \"Sim\":\n",
        "  nomeAnimal = input(\"Digite o nome do seu animal de estimação ? \")\n",
        "  animais += nomeAnimal\n",
        "  quantidade+= 1\n",
        "  temAnimal = input(\"Você tem outro animal de estimação ? \")\n",
        "\n",
        "print(f\"\\nOlá {nome}!\\n\\nVocê tem {quantidade} animais de estimação:\")"
      ],
      "metadata": {
        "colab": {
          "base_uri": "https://localhost:8080/"
        },
        "id": "9Qtf9d16RHgU",
        "outputId": "afcc4887-3dec-4aca-ae6f-3ebe6c2d0e49"
      },
      "execution_count": null,
      "outputs": [
        {
          "output_type": "stream",
          "name": "stdout",
          "text": [
            "Olá! Digite o seu nome: Renan\n",
            "Você tem algum animal de estimação ? Sim\n",
            "Digite o nome do seu animal de estimação ? Bidu\n",
            "Você tem outro animal de estimação ? Sim\n",
            "Digite o nome do seu animal de estimação ? Nicke\n",
            "Você tem outro animal de estimação ? Sim\n",
            "Digite o nome do seu animal de estimação ? Scott\n",
            "Você tem outro animal de estimação ? n\n",
            "\n",
            "Olá Renan!\n",
            "\n",
            "Você tem 3 animais de estimação:\n"
          ]
        }
      ]
    },
    {
      "cell_type": "markdown",
      "source": [
        "# If e Else"
      ],
      "metadata": {
        "id": "YxJaSQeQ_l8K"
      }
    },
    {
      "cell_type": "markdown",
      "source": [
        "**Exercício 1:**\n",
        "\n",
        "Crie um programa que leia a idade de uma pessoa e informe se ela é maior de idade (18 anos ou mais) ou menor de idade (menos de 18 anos).\n"
      ],
      "metadata": {
        "id": "OXoWwjRI_t1x"
      }
    },
    {
      "cell_type": "code",
      "source": [
        "idade = int(input(\"Olá! Digite sua idade: \"))\n",
        "\n",
        "if idade >= 18:\n",
        "  print(\"Você é maior de idade!\")\n",
        "else:\n",
        "  print(\"Você é menor de idade\")"
      ],
      "metadata": {
        "colab": {
          "base_uri": "https://localhost:8080/"
        },
        "id": "hxUgVyQf_r-H",
        "outputId": "20437fae-268b-4faf-adfb-6b9050d90f0f"
      },
      "execution_count": 12,
      "outputs": [
        {
          "output_type": "stream",
          "name": "stdout",
          "text": [
            "Olá! Digite sua idade: 0\n",
            "Você é menor de idade\n"
          ]
        }
      ]
    },
    {
      "cell_type": "markdown",
      "source": [
        "**Exercício 2:**\n",
        "\n",
        "Crie um programa que leia um número inteiro e verifique se ele é par ou ímpar."
      ],
      "metadata": {
        "id": "iZZdXdPML9GI"
      }
    },
    {
      "cell_type": "code",
      "source": [
        "numero = int(input(\"Olá! Digite um número: \"))\n",
        "\n",
        "if (numero % 2) == 0:\n",
        "  print(\"Número par\")\n",
        "else:\n",
        "  print(\"Número impar\")"
      ],
      "metadata": {
        "colab": {
          "base_uri": "https://localhost:8080/"
        },
        "id": "ajd5_48pAa2L",
        "outputId": "433e982b-1c1d-4c24-bf5f-8a4ff3d5c495"
      },
      "execution_count": 27,
      "outputs": [
        {
          "output_type": "stream",
          "name": "stdout",
          "text": [
            "Olá! Digite um número: 4\n",
            "Número par\n"
          ]
        }
      ]
    },
    {
      "cell_type": "markdown",
      "source": [
        "**Exercício 3:**\n",
        "\n",
        "Escreva um programa que peça ao usuário para digitar uma nota (0 a 10). O programa deve verificar se a nota está no intervalo válido. Se estiver, exiba \"Nota válida\". Caso contrário, exiba \"Nota inválida\"."
      ],
      "metadata": {
        "id": "2A5_0Dszc2W1"
      }
    },
    {
      "cell_type": "code",
      "source": [
        "nota = int(input(\"Olá! Digite um número \"))\n",
        "\n",
        "if nota >= 0 and nota <= 10:\n",
        "  print(\"Nota válida\")\n",
        "else:\n",
        "  print(\"Nota inválida\")"
      ],
      "metadata": {
        "colab": {
          "base_uri": "https://localhost:8080/"
        },
        "id": "QIjEKaQpc5Gq",
        "outputId": "1ea8c4b2-5084-4117-ec76-4841f248a305"
      },
      "execution_count": 42,
      "outputs": [
        {
          "output_type": "stream",
          "name": "stdout",
          "text": [
            "Olá! Digite um número 10\n",
            "Nota válida\n"
          ]
        }
      ]
    },
    {
      "cell_type": "markdown",
      "source": [
        "**Exercício 4:**\n",
        "\n",
        "Crie um programa que leia um número e verifique se ele é positivo, negativo ou zero. Exiba a mensagem correspondente."
      ],
      "metadata": {
        "id": "8ws8LIQGj0T1"
      }
    },
    {
      "cell_type": "code",
      "source": [
        "numero = 10\n",
        "\n",
        "if numero > 0:\n",
        "  print(\"Positivo\")\n",
        "elif numero < 0:\n",
        "  print(\"Negativo\")\n",
        "elif numero == 0:\n",
        "  print(\"Número zero\")\n",
        "else:\n",
        "  print(\"Obrigado...\")"
      ],
      "metadata": {
        "colab": {
          "base_uri": "https://localhost:8080/"
        },
        "id": "37aSkil1j3Z6",
        "outputId": "54e27803-5374-47b3-c924-8f1379097ba9"
      },
      "execution_count": 49,
      "outputs": [
        {
          "output_type": "stream",
          "name": "stdout",
          "text": [
            "Positivo\n"
          ]
        }
      ]
    },
    {
      "cell_type": "markdown",
      "source": [
        "**Exercício 5:**\n",
        "\n",
        "Peça ao usuário para digitar a sua senha. O programa deve verificar se a senha digitada é \"1234\". Se for, exiba \"Senha correta\", caso contrário, exiba \"Senha incorreta\".\n",
        "\n"
      ],
      "metadata": {
        "id": "3C8S935TqdAI"
      }
    },
    {
      "cell_type": "code",
      "source": [
        "senha = int(input(\"Digite sua senha: \"))\n",
        "\n",
        "if senha == 1234:\n",
        "  print(\"Senha correta \")\n",
        "else:\n",
        "  print(\"Senha incorreta\")"
      ],
      "metadata": {
        "colab": {
          "base_uri": "https://localhost:8080/"
        },
        "id": "qjUIM-l8qgTG",
        "outputId": "aefdfd8b-889c-4de3-8eca-df6aa9d75ecd"
      },
      "execution_count": 55,
      "outputs": [
        {
          "output_type": "stream",
          "name": "stdout",
          "text": [
            "Digite sua senha: 12345\n",
            "Senha incorreta\n"
          ]
        }
      ]
    }
  ]
}